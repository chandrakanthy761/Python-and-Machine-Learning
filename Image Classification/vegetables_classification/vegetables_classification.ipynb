{
 "cells": [
  {
   "cell_type": "code",
   "execution_count": 1,
   "metadata": {},
   "outputs": [],
   "source": [
    "from tensorflow.keras import layers \n",
    "import matplotlib.pyplot as plt\n",
    "from zipfile import ZipFile\n",
    "import tensorflow as tf\n",
    "from PIL import Image"
   ]
  },
  {
   "cell_type": "code",
   "execution_count": 2,
   "metadata": {},
   "outputs": [],
   "source": [
    "with ZipFile(r'Datasets\\Img\\vegetables_classification\\archive (4).zip') as zf:\n",
    "    zf.extractall(r'Datasets\\Img\\vegetables_classification')"
   ]
  },
  {
   "cell_type": "code",
   "execution_count": 3,
   "metadata": {},
   "outputs": [
    {
     "data": {
      "text/plain": [
       "(224, 224)"
      ]
     },
     "execution_count": 3,
     "metadata": {},
     "output_type": "execute_result"
    }
   ],
   "source": [
    "Image.open(r'Datasets\\Img\\vegetables_classification\\Vegetable Images\\train\\Brinjal\\0029.jpg').size"
   ]
  },
  {
   "cell_type": "code",
   "execution_count": 4,
   "metadata": {},
   "outputs": [
    {
     "name": "stdout",
     "output_type": "stream",
     "text": [
      "Found 15000 files belonging to 15 classes.\n"
     ]
    }
   ],
   "source": [
    "data= tf.keras.utils.image_dataset_from_directory(r'Datasets\\Img\\vegetables_classification\\Vegetable Images\\train',color_mode='rgb',image_size=(64,64),batch_size=15000)"
   ]
  },
  {
   "cell_type": "code",
   "execution_count": 5,
   "metadata": {},
   "outputs": [],
   "source": [
    "model=tf.keras.Sequential([\n",
    "    layers.Conv2D(30,3,input_shape=(64,64,3),activation='leaky_relu'),\n",
    "    layers.MaxPool2D(),\n",
    "    layers.Conv2D(45,3,activation='leaky_relu'),\n",
    "    layers.MaxPool2D(),\n",
    "    layers.Conv2D(60,3,activation='leaky_relu'),\n",
    "    layers.MaxPool2D(),\n",
    "    layers.Conv2D(30,3,activation='leaky_relu'),\n",
    "    layers.MaxPool2D(),\n",
    "    layers.Flatten(),\n",
    "    layers.Dense(30,activation='leaky_relu'),\n",
    "    layers.Dense(15,activation='softmax')\n",
    "])"
   ]
  },
  {
   "cell_type": "code",
   "execution_count": 6,
   "metadata": {},
   "outputs": [
    {
     "name": "stdout",
     "output_type": "stream",
     "text": [
      "Model: \"sequential\"\n",
      "_________________________________________________________________\n",
      " Layer (type)                Output Shape              Param #   \n",
      "=================================================================\n",
      " conv2d (Conv2D)             (None, 62, 62, 30)        840       \n",
      "                                                                 \n",
      " max_pooling2d (MaxPooling2D  (None, 31, 31, 30)       0         \n",
      " )                                                               \n",
      "                                                                 \n",
      " conv2d_1 (Conv2D)           (None, 29, 29, 45)        12195     \n",
      "                                                                 \n",
      " max_pooling2d_1 (MaxPooling  (None, 14, 14, 45)       0         \n",
      " 2D)                                                             \n",
      "                                                                 \n",
      " conv2d_2 (Conv2D)           (None, 12, 12, 60)        24360     \n",
      "                                                                 \n",
      " max_pooling2d_2 (MaxPooling  (None, 6, 6, 60)         0         \n",
      " 2D)                                                             \n",
      "                                                                 \n",
      " conv2d_3 (Conv2D)           (None, 4, 4, 30)          16230     \n",
      "                                                                 \n",
      " max_pooling2d_3 (MaxPooling  (None, 2, 2, 30)         0         \n",
      " 2D)                                                             \n",
      "                                                                 \n",
      " flatten (Flatten)           (None, 120)               0         \n",
      "                                                                 \n",
      " dense (Dense)               (None, 30)                3630      \n",
      "                                                                 \n",
      " dense_1 (Dense)             (None, 15)                465       \n",
      "                                                                 \n",
      "=================================================================\n",
      "Total params: 57,720\n",
      "Trainable params: 57,720\n",
      "Non-trainable params: 0\n",
      "_________________________________________________________________\n"
     ]
    }
   ],
   "source": [
    "model.summary()"
   ]
  },
  {
   "cell_type": "code",
   "execution_count": 7,
   "metadata": {},
   "outputs": [],
   "source": [
    "model.compile(loss=tf.keras.losses.categorical_crossentropy,optimizer=tf.keras.optimizers.Adam(),metrics=['accuracy'])"
   ]
  },
  {
   "cell_type": "code",
   "execution_count": 8,
   "metadata": {},
   "outputs": [
    {
     "name": "stdout",
     "output_type": "stream",
     "text": [
      "Epoch 1/100\n",
      "100/100 [==============================] - 54s 484ms/step - loss: 2.0707 - accuracy: 0.2819\n",
      "Epoch 2/100\n",
      "100/100 [==============================] - 44s 438ms/step - loss: 1.3956 - accuracy: 0.5212\n",
      "Epoch 3/100\n",
      "100/100 [==============================] - 43s 429ms/step - loss: 1.0414 - accuracy: 0.6506\n",
      "Epoch 4/100\n",
      "100/100 [==============================] - 42s 417ms/step - loss: 0.8481 - accuracy: 0.7212\n",
      "Epoch 5/100\n",
      "100/100 [==============================] - 41s 413ms/step - loss: 0.6980 - accuracy: 0.7715\n",
      "Epoch 6/100\n",
      "100/100 [==============================] - 42s 420ms/step - loss: 0.6208 - accuracy: 0.7979\n",
      "Epoch 7/100\n",
      "100/100 [==============================] - 41s 410ms/step - loss: 0.4991 - accuracy: 0.8440\n",
      "Epoch 8/100\n",
      "100/100 [==============================] - 41s 412ms/step - loss: 0.4504 - accuracy: 0.8570\n",
      "Epoch 9/100\n",
      "100/100 [==============================] - 41s 410ms/step - loss: 0.3863 - accuracy: 0.8812\n",
      "Epoch 10/100\n",
      "100/100 [==============================] - 41s 412ms/step - loss: 0.3236 - accuracy: 0.9047\n",
      "Epoch 11/100\n",
      "100/100 [==============================] - 42s 417ms/step - loss: 0.3320 - accuracy: 0.8977\n",
      "Epoch 12/100\n",
      "100/100 [==============================] - 42s 418ms/step - loss: 0.3058 - accuracy: 0.9040\n",
      "Epoch 13/100\n",
      "100/100 [==============================] - 42s 419ms/step - loss: 0.2518 - accuracy: 0.9261\n",
      "Epoch 14/100\n",
      "100/100 [==============================] - 42s 416ms/step - loss: 0.2379 - accuracy: 0.9281\n",
      "Epoch 15/100\n",
      "100/100 [==============================] - 41s 413ms/step - loss: 0.2276 - accuracy: 0.9307\n",
      "Epoch 16/100\n",
      "100/100 [==============================] - 41s 412ms/step - loss: 0.1938 - accuracy: 0.9397\n",
      "Epoch 17/100\n",
      "100/100 [==============================] - 42s 416ms/step - loss: 0.1610 - accuracy: 0.9540\n",
      "Epoch 18/100\n",
      "100/100 [==============================] - 42s 422ms/step - loss: 0.1575 - accuracy: 0.9541\n",
      "Epoch 19/100\n",
      "100/100 [==============================] - 42s 418ms/step - loss: 0.1465 - accuracy: 0.9559\n",
      "Epoch 20/100\n",
      "100/100 [==============================] - 42s 422ms/step - loss: 0.1358 - accuracy: 0.9607\n",
      "Epoch 21/100\n",
      "100/100 [==============================] - 42s 419ms/step - loss: 0.1200 - accuracy: 0.9633\n",
      "Epoch 22/100\n",
      "100/100 [==============================] - 42s 418ms/step - loss: 0.1415 - accuracy: 0.9561\n",
      "Epoch 23/100\n",
      "100/100 [==============================] - 42s 419ms/step - loss: 0.1062 - accuracy: 0.9695\n",
      "Epoch 24/100\n",
      "100/100 [==============================] - 42s 418ms/step - loss: 0.1375 - accuracy: 0.9578\n",
      "Epoch 25/100\n",
      "100/100 [==============================] - 42s 419ms/step - loss: 0.0876 - accuracy: 0.9752\n",
      "Epoch 26/100\n",
      "100/100 [==============================] - 42s 421ms/step - loss: 0.0788 - accuracy: 0.9769\n",
      "Epoch 27/100\n",
      "100/100 [==============================] - 42s 418ms/step - loss: 0.0751 - accuracy: 0.9783\n",
      "Epoch 28/100\n",
      "100/100 [==============================] - 42s 419ms/step - loss: 0.0919 - accuracy: 0.9704\n",
      "Epoch 29/100\n",
      "100/100 [==============================] - 42s 417ms/step - loss: 0.0672 - accuracy: 0.9806\n",
      "Epoch 30/100\n",
      "100/100 [==============================] - 42s 419ms/step - loss: 0.0756 - accuracy: 0.9776\n",
      "Epoch 31/100\n",
      "100/100 [==============================] - 42s 418ms/step - loss: 0.0742 - accuracy: 0.9768\n",
      "Epoch 32/100\n",
      "100/100 [==============================] - 42s 419ms/step - loss: 0.0957 - accuracy: 0.9685\n",
      "Epoch 33/100\n",
      "100/100 [==============================] - 41s 411ms/step - loss: 0.0584 - accuracy: 0.9822\n",
      "Epoch 34/100\n",
      "100/100 [==============================] - 41s 405ms/step - loss: 0.0482 - accuracy: 0.9864\n",
      "Epoch 35/100\n",
      "100/100 [==============================] - 40s 403ms/step - loss: 0.0432 - accuracy: 0.9880\n",
      "Epoch 36/100\n",
      "100/100 [==============================] - 40s 402ms/step - loss: 0.0421 - accuracy: 0.9879\n",
      "Epoch 37/100\n",
      "100/100 [==============================] - 42s 419ms/step - loss: 0.0438 - accuracy: 0.9871\n",
      "Epoch 38/100\n",
      "100/100 [==============================] - 41s 413ms/step - loss: 0.0423 - accuracy: 0.9876\n",
      "Epoch 39/100\n",
      "100/100 [==============================] - 44s 440ms/step - loss: 0.0405 - accuracy: 0.9883\n",
      "Epoch 40/100\n",
      "100/100 [==============================] - 53s 533ms/step - loss: 0.0358 - accuracy: 0.9905\n",
      "Epoch 41/100\n",
      "100/100 [==============================] - 45s 448ms/step - loss: 0.0673 - accuracy: 0.9782\n",
      "Epoch 42/100\n",
      "100/100 [==============================] - 54s 544ms/step - loss: 0.0272 - accuracy: 0.9929\n",
      "Epoch 43/100\n",
      "100/100 [==============================] - 43s 427ms/step - loss: 0.0205 - accuracy: 0.9948\n",
      "Epoch 44/100\n",
      "100/100 [==============================] - 42s 421ms/step - loss: 0.0200 - accuracy: 0.9953\n",
      "Epoch 45/100\n",
      "100/100 [==============================] - 42s 415ms/step - loss: 0.0139 - accuracy: 0.9968\n",
      "Epoch 46/100\n",
      "100/100 [==============================] - 43s 428ms/step - loss: 0.0183 - accuracy: 0.9949\n",
      "Epoch 47/100\n",
      "100/100 [==============================] - 44s 442ms/step - loss: 0.1170 - accuracy: 0.9643\n",
      "Epoch 48/100\n",
      "100/100 [==============================] - 41s 414ms/step - loss: 0.0429 - accuracy: 0.9866\n",
      "Epoch 49/100\n",
      "100/100 [==============================] - 41s 413ms/step - loss: 0.0236 - accuracy: 0.9936\n",
      "Epoch 50/100\n",
      "100/100 [==============================] - 41s 410ms/step - loss: 0.0247 - accuracy: 0.9923\n",
      "Epoch 51/100\n",
      "100/100 [==============================] - 41s 409ms/step - loss: 0.0502 - accuracy: 0.9839\n",
      "Epoch 52/100\n",
      "100/100 [==============================] - 41s 408ms/step - loss: 0.0229 - accuracy: 0.9935\n",
      "Epoch 53/100\n",
      "100/100 [==============================] - 42s 417ms/step - loss: 0.0301 - accuracy: 0.9907\n",
      "Epoch 54/100\n",
      "100/100 [==============================] - 42s 419ms/step - loss: 0.0131 - accuracy: 0.9967\n",
      "Epoch 55/100\n",
      "100/100 [==============================] - 41s 411ms/step - loss: 0.0148 - accuracy: 0.9959\n",
      "Epoch 56/100\n",
      "100/100 [==============================] - 41s 410ms/step - loss: 0.0704 - accuracy: 0.9773\n",
      "Epoch 57/100\n",
      "100/100 [==============================] - 41s 412ms/step - loss: 0.0506 - accuracy: 0.9834\n",
      "Epoch 58/100\n",
      "100/100 [==============================] - 41s 409ms/step - loss: 0.0243 - accuracy: 0.9920\n",
      "Epoch 59/100\n",
      "100/100 [==============================] - 41s 410ms/step - loss: 0.0088 - accuracy: 0.9981\n",
      "Epoch 60/100\n",
      "100/100 [==============================] - 41s 413ms/step - loss: 0.0041 - accuracy: 0.9997\n",
      "Epoch 61/100\n",
      "100/100 [==============================] - 41s 412ms/step - loss: 0.0021 - accuracy: 0.9999\n",
      "Epoch 62/100\n",
      "100/100 [==============================] - 41s 412ms/step - loss: 0.0014 - accuracy: 0.9999\n",
      "Epoch 63/100\n",
      "100/100 [==============================] - 41s 410ms/step - loss: 0.0014 - accuracy: 0.9999\n",
      "Epoch 64/100\n",
      "100/100 [==============================] - 41s 409ms/step - loss: 0.0011 - accuracy: 0.9999\n",
      "Epoch 65/100\n",
      "100/100 [==============================] - 41s 408ms/step - loss: 8.3941e-04 - accuracy: 1.0000\n",
      "Epoch 66/100\n",
      "100/100 [==============================] - 41s 409ms/step - loss: 6.9406e-04 - accuracy: 1.0000\n",
      "Epoch 67/100\n",
      "100/100 [==============================] - 41s 409ms/step - loss: 5.6487e-04 - accuracy: 1.0000\n",
      "Epoch 68/100\n",
      "100/100 [==============================] - 41s 409ms/step - loss: 5.2405e-04 - accuracy: 1.0000\n",
      "Epoch 69/100\n",
      "100/100 [==============================] - 48s 480ms/step - loss: 4.7647e-04 - accuracy: 1.0000\n",
      "Epoch 70/100\n",
      "100/100 [==============================] - 55s 553ms/step - loss: 4.1970e-04 - accuracy: 1.0000\n",
      "Epoch 71/100\n",
      "100/100 [==============================] - 54s 542ms/step - loss: 3.8320e-04 - accuracy: 1.0000\n",
      "Epoch 72/100\n",
      "100/100 [==============================] - 56s 558ms/step - loss: 3.5758e-04 - accuracy: 1.0000\n",
      "Epoch 73/100\n",
      "100/100 [==============================] - 42s 418ms/step - loss: 3.2706e-04 - accuracy: 1.0000\n",
      "Epoch 74/100\n",
      "100/100 [==============================] - 41s 406ms/step - loss: 3.0880e-04 - accuracy: 1.0000\n",
      "Epoch 75/100\n",
      "100/100 [==============================] - 41s 407ms/step - loss: 2.8357e-04 - accuracy: 1.0000\n",
      "Epoch 76/100\n",
      "100/100 [==============================] - 41s 408ms/step - loss: 2.6465e-04 - accuracy: 1.0000\n",
      "Epoch 77/100\n",
      "100/100 [==============================] - 41s 407ms/step - loss: 2.5328e-04 - accuracy: 1.0000\n",
      "Epoch 78/100\n",
      "100/100 [==============================] - 40s 405ms/step - loss: 2.2769e-04 - accuracy: 1.0000\n",
      "Epoch 79/100\n",
      "100/100 [==============================] - 41s 405ms/step - loss: 2.1514e-04 - accuracy: 1.0000\n",
      "Epoch 80/100\n",
      "100/100 [==============================] - 41s 407ms/step - loss: 2.0141e-04 - accuracy: 1.0000\n",
      "Epoch 81/100\n",
      "100/100 [==============================] - 41s 407ms/step - loss: 1.8575e-04 - accuracy: 1.0000\n",
      "Epoch 82/100\n",
      "100/100 [==============================] - 41s 407ms/step - loss: 1.7299e-04 - accuracy: 1.0000\n",
      "Epoch 83/100\n",
      "100/100 [==============================] - 41s 406ms/step - loss: 1.6374e-04 - accuracy: 1.0000\n",
      "Epoch 84/100\n",
      "100/100 [==============================] - 41s 410ms/step - loss: 1.5645e-04 - accuracy: 1.0000\n",
      "Epoch 85/100\n",
      "100/100 [==============================] - 41s 407ms/step - loss: 1.4791e-04 - accuracy: 1.0000\n",
      "Epoch 86/100\n",
      "100/100 [==============================] - 41s 406ms/step - loss: 1.3478e-04 - accuracy: 1.0000\n",
      "Epoch 87/100\n",
      "100/100 [==============================] - 41s 406ms/step - loss: 1.2565e-04 - accuracy: 1.0000\n",
      "Epoch 88/100\n",
      "100/100 [==============================] - 41s 407ms/step - loss: 1.1701e-04 - accuracy: 1.0000\n",
      "Epoch 89/100\n",
      "100/100 [==============================] - 41s 407ms/step - loss: 1.1530e-04 - accuracy: 1.0000\n",
      "Epoch 90/100\n",
      "100/100 [==============================] - 41s 410ms/step - loss: 1.0466e-04 - accuracy: 1.0000\n",
      "Epoch 91/100\n",
      "100/100 [==============================] - 40s 401ms/step - loss: 9.9945e-05 - accuracy: 1.0000\n",
      "Epoch 92/100\n",
      "100/100 [==============================] - 41s 407ms/step - loss: 9.4671e-05 - accuracy: 1.0000\n",
      "Epoch 93/100\n",
      "100/100 [==============================] - 47s 471ms/step - loss: 8.7284e-05 - accuracy: 1.0000\n",
      "Epoch 94/100\n",
      "100/100 [==============================] - 46s 459ms/step - loss: 8.2095e-05 - accuracy: 1.0000\n",
      "Epoch 95/100\n",
      "100/100 [==============================] - 48s 480ms/step - loss: 8.0588e-05 - accuracy: 1.0000\n",
      "Epoch 96/100\n",
      "100/100 [==============================] - 64s 640ms/step - loss: 7.4272e-05 - accuracy: 1.0000\n",
      "Epoch 97/100\n",
      "100/100 [==============================] - 58s 578ms/step - loss: 7.2187e-05 - accuracy: 1.0000\n",
      "Epoch 98/100\n",
      "100/100 [==============================] - 46s 460ms/step - loss: 6.4683e-05 - accuracy: 1.0000\n",
      "Epoch 99/100\n",
      "100/100 [==============================] - 47s 472ms/step - loss: 6.2995e-05 - accuracy: 1.0000\n",
      "Epoch 100/100\n",
      "100/100 [==============================] - 48s 479ms/step - loss: 5.8897e-05 - accuracy: 1.0000\n"
     ]
    }
   ],
   "source": [
    "for features,labels in data:\n",
    "    features=tf.divide(features,255)\n",
    "    labels=tf.one_hot(labels,15)\n",
    "    record=model.fit(features,labels,batch_size=150,epochs=100)"
   ]
  },
  {
   "cell_type": "code",
   "execution_count": 9,
   "metadata": {},
   "outputs": [],
   "source": [
    "tf.keras.models.save_model(model,r'Datasets\\models\\vegetablesClassification.h5')"
   ]
  },
  {
   "cell_type": "code",
   "execution_count": 11,
   "metadata": {},
   "outputs": [],
   "source": [
    "model=tf.keras.models.load_model(r'Datasets\\models\\vegetablesClassification.h5')"
   ]
  },
  {
   "cell_type": "code",
   "execution_count": 13,
   "metadata": {},
   "outputs": [
    {
     "data": {
      "image/png": "[encoded data removed]",
      "text/plain": [
       "<Figure size 432x288 with 1 Axes>"
      ]
     },
     "metadata": {
      "needs_background": "light"
     },
     "output_type": "display_data"
    }
   ],
   "source": [
    "plt.plot(record.history['loss'],label='loss')\n",
    "plt.plot(record.history['accuracy'],label='accuracy')\n",
    "plt.legend()\n",
    "plt.show()"
   ]
  },
  {
   "cell_type": "code",
   "execution_count": null,
   "metadata": {},
   "outputs": [],
   "source": []
  }
 ],
 "metadata": {
  "kernelspec": {
   "display_name": "Python 3",
   "language": "python",
   "name": "python3"
  },
  "language_info": {
   "codemirror_mode": {
    "name": "ipython",
    "version": 3
   },
   "file_extension": ".py",
   "mimetype": "text/x-python",
   "name": "python",
   "nbconvert_exporter": "python",
   "pygments_lexer": "ipython3",
   "version": "3.8.5 (tags/v3.8.5:580fbb0, Jul 20 2020, 15:57:54) [MSC v.1924 64 bit (AMD64)]"
  },
  "orig_nbformat": 4,
  "vscode": {
   "interpreter": {
    "hash": "bed86c5261c2214d769a0bf21b1fb328a4538a9145d5bfa7eebc314e7c9d73eb"
   }
  }
 },
 "nbformat": 4,
 "nbformat_minor": 2
}
