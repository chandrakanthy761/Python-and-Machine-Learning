{
 "cells": [
  {
   "cell_type": "code",
   "execution_count": 1,
   "metadata": {},
   "outputs": [],
   "source": [
    "from tensorflow.keras import layers\n",
    "import matplotlib.pyplot as plt\n",
    "from zipfile import ZipFile\n",
    "import tensorflow as tf\n",
    "from PIL import Image"
   ]
  },
  {
   "cell_type": "code",
   "execution_count": 2,
   "metadata": {},
   "outputs": [],
   "source": [
    "# Download the dataset from the below link\n",
    "# https://www.kaggle.com/datasets/puneet6060/intel-image-classification\n",
    "\n",
    "with ZipFile(r'intel image classification\\archive (6).zip') as zf:\n",
    "    zf.extractall(r'Datasets\\Img\\intel_image_classification')"
   ]
  },
  {
   "cell_type": "code",
   "execution_count": 3,
   "metadata": {},
   "outputs": [
    {
     "data": {
      "text/plain": [
       "(150, 150)"
      ]
     },
     "execution_count": 3,
     "metadata": {},
     "output_type": "execute_result"
    }
   ],
   "source": [
    "img=Image.open(r'Datasets\\Img\\intel_image_classification\\seg_train\\seg_train\\street\\74.jpg')\n",
    "img.size"
   ]
  },
  {
   "cell_type": "code",
   "execution_count": 4,
   "metadata": {},
   "outputs": [
    {
     "name": "stdout",
     "output_type": "stream",
     "text": [
      "Found 14034 files belonging to 6 classes.\n"
     ]
    }
   ],
   "source": [
    "data=tf.keras.utils.image_dataset_from_directory(r'Datasets\\Img\\intel_image_classification\\seg_train\\seg_train',color_mode='rgb',image_size=(64,64),batch_size=14034)"
   ]
  },
  {
   "cell_type": "code",
   "execution_count": 5,
   "metadata": {},
   "outputs": [],
   "source": [
    "model=tf.keras.Sequential([\n",
    "    layers.Conv2D(18,3,input_shape=(64,64,3),activation='leaky_relu'),\n",
    "    layers.MaxPool2D(),\n",
    "    layers.Conv2D(36,3,activation='leaky_relu'),\n",
    "    layers.MaxPool2D(),\n",
    "    layers.Conv2D(48,3,activation='leaky_relu'),\n",
    "    layers.MaxPool2D(),\n",
    "    layers.Conv2D(36,3,activation='leaky_relu'),\n",
    "    layers.MaxPool2D(),\n",
    "    layers.Flatten(),\n",
    "    layers.Dense(28,'leaky_relu'),\n",
    "    layers.Dense(15,'relu'),\n",
    "    layers.Dense(6,'softmax')\n",
    "])"
   ]
  },
  {
   "cell_type": "code",
   "execution_count": 6,
   "metadata": {},
   "outputs": [
    {
     "name": "stdout",
     "output_type": "stream",
     "text": [
      "Model: \"sequential\"\n",
      "_________________________________________________________________\n",
      " Layer (type)                Output Shape              Param #   \n",
      "=================================================================\n",
      " conv2d (Conv2D)             (None, 62, 62, 18)        504       \n",
      "                                                                 \n",
      " max_pooling2d (MaxPooling2D  (None, 31, 31, 18)       0         \n",
      " )                                                               \n",
      "                                                                 \n",
      " conv2d_1 (Conv2D)           (None, 29, 29, 36)        5868      \n",
      "                                                                 \n",
      " max_pooling2d_1 (MaxPooling  (None, 14, 14, 36)       0         \n",
      " 2D)                                                             \n",
      "                                                                 \n",
      " conv2d_2 (Conv2D)           (None, 12, 12, 48)        15600     \n",
      "                                                                 \n",
      " max_pooling2d_2 (MaxPooling  (None, 6, 6, 48)         0         \n",
      " 2D)                                                             \n",
      "                                                                 \n",
      " conv2d_3 (Conv2D)           (None, 4, 4, 36)          15588     \n",
      "                                                                 \n",
      " max_pooling2d_3 (MaxPooling  (None, 2, 2, 36)         0         \n",
      " 2D)                                                             \n",
      "                                                                 \n",
      " flatten (Flatten)           (None, 144)               0         \n",
      "                                                                 \n",
      " dense (Dense)               (None, 28)                4060      \n",
      "                                                                 \n",
      " dense_1 (Dense)             (None, 15)                435       \n",
      "                                                                 \n",
      " dense_2 (Dense)             (None, 6)                 96        \n",
      "                                                                 \n",
      "=================================================================\n",
      "Total params: 42,151\n",
      "Trainable params: 42,151\n",
      "Non-trainable params: 0\n",
      "_________________________________________________________________\n"
     ]
    }
   ],
   "source": [
    "model.summary()"
   ]
  },
  {
   "cell_type": "code",
   "execution_count": 7,
   "metadata": {},
   "outputs": [],
   "source": [
    "model.compile(loss=tf.keras.losses.categorical_crossentropy,optimizer=tf.keras.optimizers.Adam(),metrics=['accuracy'])"
   ]
  },
  {
   "cell_type": "code",
   "execution_count": 8,
   "metadata": {},
   "outputs": [
    {
     "name": "stdout",
     "output_type": "stream",
     "text": [
      "Epoch 1/100\n",
      "101/101 [==============================] - 40s 341ms/step - loss: 1.3237 - accuracy: 0.4562\n",
      "Epoch 2/100\n",
      "101/101 [==============================] - 28s 281ms/step - loss: 1.0464 - accuracy: 0.5854\n",
      "Epoch 3/100\n",
      "101/101 [==============================] - 25s 251ms/step - loss: 0.9149 - accuracy: 0.6482\n",
      "Epoch 4/100\n",
      "101/101 [==============================] - 26s 261ms/step - loss: 0.8467 - accuracy: 0.6752\n",
      "Epoch 5/100\n",
      "101/101 [==============================] - 25s 253ms/step - loss: 0.7918 - accuracy: 0.6996\n",
      "Epoch 6/100\n",
      "101/101 [==============================] - 25s 252ms/step - loss: 0.7604 - accuracy: 0.7160\n",
      "Epoch 7/100\n",
      "101/101 [==============================] - 26s 253ms/step - loss: 0.7209 - accuracy: 0.7361\n",
      "Epoch 8/100\n",
      "101/101 [==============================] - 29s 283ms/step - loss: 0.6819 - accuracy: 0.7489\n",
      "Epoch 9/100\n",
      "101/101 [==============================] - 28s 273ms/step - loss: 0.6686 - accuracy: 0.7585\n",
      "Epoch 10/100\n",
      "101/101 [==============================] - 27s 263ms/step - loss: 0.6269 - accuracy: 0.7699\n",
      "Epoch 11/100\n",
      "101/101 [==============================] - 28s 277ms/step - loss: 0.5983 - accuracy: 0.7845\n",
      "Epoch 12/100\n",
      "101/101 [==============================] - 28s 279ms/step - loss: 0.5815 - accuracy: 0.7910\n",
      "Epoch 13/100\n",
      "101/101 [==============================] - 28s 273ms/step - loss: 0.5485 - accuracy: 0.8007\n",
      "Epoch 14/100\n",
      "101/101 [==============================] - 26s 260ms/step - loss: 0.5367 - accuracy: 0.8068\n",
      "Epoch 15/100\n",
      "101/101 [==============================] - 26s 258ms/step - loss: 0.5242 - accuracy: 0.8115\n",
      "Epoch 16/100\n",
      "101/101 [==============================] - 27s 264ms/step - loss: 0.5094 - accuracy: 0.8156\n",
      "Epoch 17/100\n",
      "101/101 [==============================] - 27s 270ms/step - loss: 0.4851 - accuracy: 0.8264\n",
      "Epoch 18/100\n",
      "101/101 [==============================] - 26s 261ms/step - loss: 0.4786 - accuracy: 0.8276\n",
      "Epoch 19/100\n",
      "101/101 [==============================] - 27s 265ms/step - loss: 0.4506 - accuracy: 0.8416\n",
      "Epoch 20/100\n",
      "101/101 [==============================] - 26s 258ms/step - loss: 0.4515 - accuracy: 0.8397\n",
      "Epoch 21/100\n",
      "101/101 [==============================] - 26s 256ms/step - loss: 0.4164 - accuracy: 0.8535\n",
      "Epoch 22/100\n",
      "101/101 [==============================] - 26s 260ms/step - loss: 0.4013 - accuracy: 0.8587\n",
      "Epoch 23/100\n",
      "101/101 [==============================] - 26s 256ms/step - loss: 0.3986 - accuracy: 0.8593\n",
      "Epoch 24/100\n",
      "101/101 [==============================] - 25s 250ms/step - loss: 0.3923 - accuracy: 0.8615\n",
      "Epoch 25/100\n",
      "101/101 [==============================] - 25s 250ms/step - loss: 0.3543 - accuracy: 0.8764\n",
      "Epoch 26/100\n",
      "101/101 [==============================] - 26s 253ms/step - loss: 0.3514 - accuracy: 0.8761\n",
      "Epoch 27/100\n",
      "101/101 [==============================] - 25s 246ms/step - loss: 0.3325 - accuracy: 0.8811\n",
      "Epoch 28/100\n",
      "101/101 [==============================] - 25s 246ms/step - loss: 0.3350 - accuracy: 0.8843\n",
      "Epoch 29/100\n",
      "101/101 [==============================] - 25s 248ms/step - loss: 0.3165 - accuracy: 0.8888\n",
      "Epoch 30/100\n",
      "101/101 [==============================] - 25s 250ms/step - loss: 0.2842 - accuracy: 0.9035\n",
      "Epoch 31/100\n",
      "101/101 [==============================] - 25s 248ms/step - loss: 0.2864 - accuracy: 0.8985\n",
      "Epoch 32/100\n",
      "101/101 [==============================] - 25s 249ms/step - loss: 0.2837 - accuracy: 0.8994\n",
      "Epoch 33/100\n",
      "101/101 [==============================] - 25s 249ms/step - loss: 0.2639 - accuracy: 0.9069\n",
      "Epoch 34/100\n",
      "101/101 [==============================] - 25s 249ms/step - loss: 0.2451 - accuracy: 0.9160\n",
      "Epoch 35/100\n",
      "101/101 [==============================] - 25s 249ms/step - loss: 0.2346 - accuracy: 0.9188\n",
      "Epoch 36/100\n",
      "101/101 [==============================] - 25s 248ms/step - loss: 0.2255 - accuracy: 0.9224\n",
      "Epoch 37/100\n",
      "101/101 [==============================] - 25s 249ms/step - loss: 0.2220 - accuracy: 0.9198\n",
      "Epoch 38/100\n",
      "101/101 [==============================] - 25s 249ms/step - loss: 0.1927 - accuracy: 0.9343\n",
      "Epoch 39/100\n",
      "101/101 [==============================] - 25s 248ms/step - loss: 0.1904 - accuracy: 0.9349\n",
      "Epoch 40/100\n",
      "101/101 [==============================] - 25s 251ms/step - loss: 0.1691 - accuracy: 0.9447\n",
      "Epoch 41/100\n",
      "101/101 [==============================] - 25s 250ms/step - loss: 0.1579 - accuracy: 0.9498\n",
      "Epoch 42/100\n",
      "101/101 [==============================] - 25s 250ms/step - loss: 0.1622 - accuracy: 0.9452\n",
      "Epoch 43/100\n",
      "101/101 [==============================] - 25s 249ms/step - loss: 0.1547 - accuracy: 0.9474\n",
      "Epoch 44/100\n",
      "101/101 [==============================] - 25s 247ms/step - loss: 0.1405 - accuracy: 0.9553\n",
      "Epoch 45/100\n",
      "101/101 [==============================] - 25s 247ms/step - loss: 0.1535 - accuracy: 0.9485\n",
      "Epoch 46/100\n",
      "101/101 [==============================] - 25s 248ms/step - loss: 0.1201 - accuracy: 0.9613\n",
      "Epoch 47/100\n",
      "101/101 [==============================] - 25s 248ms/step - loss: 0.1157 - accuracy: 0.9608\n",
      "Epoch 48/100\n",
      "101/101 [==============================] - 25s 248ms/step - loss: 0.1161 - accuracy: 0.9617\n",
      "Epoch 49/100\n",
      "101/101 [==============================] - 25s 249ms/step - loss: 0.1322 - accuracy: 0.9543\n",
      "Epoch 50/100\n",
      "101/101 [==============================] - 25s 248ms/step - loss: 0.0982 - accuracy: 0.9705\n",
      "Epoch 51/100\n",
      "101/101 [==============================] - 25s 248ms/step - loss: 0.0912 - accuracy: 0.9720\n",
      "Epoch 52/100\n",
      "101/101 [==============================] - 25s 250ms/step - loss: 0.1030 - accuracy: 0.9657\n",
      "Epoch 53/100\n",
      "101/101 [==============================] - 26s 261ms/step - loss: 0.1121 - accuracy: 0.9610\n",
      "Epoch 54/100\n",
      "101/101 [==============================] - 27s 263ms/step - loss: 0.0709 - accuracy: 0.9781\n",
      "Epoch 55/100\n",
      "101/101 [==============================] - 27s 265ms/step - loss: 0.0798 - accuracy: 0.9746\n",
      "Epoch 56/100\n",
      "101/101 [==============================] - 26s 253ms/step - loss: 0.0799 - accuracy: 0.9760\n",
      "Epoch 57/100\n",
      "101/101 [==============================] - 25s 246ms/step - loss: 0.0870 - accuracy: 0.9696\n",
      "Epoch 58/100\n",
      "101/101 [==============================] - 25s 250ms/step - loss: 0.0688 - accuracy: 0.9781\n",
      "Epoch 59/100\n",
      "101/101 [==============================] - 25s 247ms/step - loss: 0.0738 - accuracy: 0.9763\n",
      "Epoch 60/100\n",
      "101/101 [==============================] - 25s 246ms/step - loss: 0.0572 - accuracy: 0.9829\n",
      "Epoch 61/100\n",
      "101/101 [==============================] - 25s 247ms/step - loss: 0.0450 - accuracy: 0.9870\n",
      "Epoch 62/100\n",
      "101/101 [==============================] - 25s 246ms/step - loss: 0.0408 - accuracy: 0.9899\n",
      "Epoch 63/100\n",
      "101/101 [==============================] - 25s 248ms/step - loss: 0.0380 - accuracy: 0.9902\n",
      "Epoch 64/100\n",
      "101/101 [==============================] - 25s 246ms/step - loss: 0.0689 - accuracy: 0.9770\n",
      "Epoch 65/100\n",
      "101/101 [==============================] - 25s 247ms/step - loss: 0.0969 - accuracy: 0.9670\n",
      "Epoch 66/100\n",
      "101/101 [==============================] - 25s 249ms/step - loss: 0.0533 - accuracy: 0.9829\n",
      "Epoch 67/100\n",
      "101/101 [==============================] - 25s 249ms/step - loss: 0.0445 - accuracy: 0.9860\n",
      "Epoch 68/100\n",
      "101/101 [==============================] - 25s 249ms/step - loss: 0.0334 - accuracy: 0.9917\n",
      "Epoch 69/100\n",
      "101/101 [==============================] - 25s 249ms/step - loss: 0.0264 - accuracy: 0.9942\n",
      "Epoch 70/100\n",
      "101/101 [==============================] - 25s 250ms/step - loss: 0.0323 - accuracy: 0.9912\n",
      "Epoch 71/100\n",
      "101/101 [==============================] - 25s 248ms/step - loss: 0.0958 - accuracy: 0.9675\n",
      "Epoch 72/100\n",
      "101/101 [==============================] - 25s 249ms/step - loss: 0.0587 - accuracy: 0.9801\n",
      "Epoch 73/100\n",
      "101/101 [==============================] - 25s 249ms/step - loss: 0.0660 - accuracy: 0.9774\n",
      "Epoch 74/100\n",
      "101/101 [==============================] - 25s 252ms/step - loss: 0.0341 - accuracy: 0.9913\n",
      "Epoch 75/100\n",
      "101/101 [==============================] - 25s 248ms/step - loss: 0.0329 - accuracy: 0.9910\n",
      "Epoch 76/100\n",
      "101/101 [==============================] - 26s 254ms/step - loss: 0.0394 - accuracy: 0.9877\n",
      "Epoch 77/100\n",
      "101/101 [==============================] - 26s 254ms/step - loss: 0.0197 - accuracy: 0.9958\n",
      "Epoch 78/100\n",
      "101/101 [==============================] - 26s 256ms/step - loss: 0.0225 - accuracy: 0.9943\n",
      "Epoch 79/100\n",
      "101/101 [==============================] - 26s 253ms/step - loss: 0.0450 - accuracy: 0.9848\n",
      "Epoch 80/100\n",
      "101/101 [==============================] - 25s 248ms/step - loss: 0.0773 - accuracy: 0.9745\n",
      "Epoch 81/100\n",
      "101/101 [==============================] - 25s 248ms/step - loss: 0.0496 - accuracy: 0.9848\n",
      "Epoch 82/100\n",
      "101/101 [==============================] - 25s 247ms/step - loss: 0.0272 - accuracy: 0.9926\n",
      "Epoch 83/100\n",
      "101/101 [==============================] - 25s 252ms/step - loss: 0.0334 - accuracy: 0.9889\n",
      "Epoch 84/100\n",
      "101/101 [==============================] - 25s 252ms/step - loss: 0.0395 - accuracy: 0.9890\n",
      "Epoch 85/100\n",
      "101/101 [==============================] - 25s 248ms/step - loss: 0.0494 - accuracy: 0.9834\n",
      "Epoch 86/100\n",
      "101/101 [==============================] - 25s 248ms/step - loss: 0.0275 - accuracy: 0.9922\n",
      "Epoch 87/100\n",
      "101/101 [==============================] - 25s 247ms/step - loss: 0.0213 - accuracy: 0.9952\n",
      "Epoch 88/100\n",
      "101/101 [==============================] - 25s 246ms/step - loss: 0.0305 - accuracy: 0.9914\n",
      "Epoch 89/100\n",
      "101/101 [==============================] - 25s 249ms/step - loss: 0.0989 - accuracy: 0.9662\n",
      "Epoch 90/100\n",
      "101/101 [==============================] - 25s 249ms/step - loss: 0.0537 - accuracy: 0.9817\n",
      "Epoch 91/100\n",
      "101/101 [==============================] - 25s 249ms/step - loss: 0.0220 - accuracy: 0.9942\n",
      "Epoch 92/100\n",
      "101/101 [==============================] - 25s 249ms/step - loss: 0.0383 - accuracy: 0.9889\n",
      "Epoch 93/100\n",
      "101/101 [==============================] - 25s 249ms/step - loss: 0.0376 - accuracy: 0.9879\n",
      "Epoch 94/100\n",
      "101/101 [==============================] - 25s 249ms/step - loss: 0.0380 - accuracy: 0.9870\n",
      "Epoch 95/100\n",
      "101/101 [==============================] - 25s 249ms/step - loss: 0.0314 - accuracy: 0.9907\n",
      "Epoch 96/100\n",
      "101/101 [==============================] - 26s 261ms/step - loss: 0.0215 - accuracy: 0.9944\n",
      "Epoch 97/100\n",
      "101/101 [==============================] - 35s 348ms/step - loss: 0.0192 - accuracy: 0.9959\n",
      "Epoch 98/100\n",
      "101/101 [==============================] - 25s 250ms/step - loss: 0.0146 - accuracy: 0.9971\n",
      "Epoch 99/100\n",
      "101/101 [==============================] - 25s 249ms/step - loss: 0.0258 - accuracy: 0.9919\n",
      "Epoch 100/100\n",
      "101/101 [==============================] - 25s 252ms/step - loss: 0.0952 - accuracy: 0.9699\n"
     ]
    }
   ],
   "source": [
    "for features,labels in data:\n",
    "    features=tf.divide(features,255)\n",
    "    labels=tf.one_hot(labels,6)\n",
    "    record=model.fit(features,labels,batch_size=140,epochs=100)"
   ]
  },
  {
   "cell_type": "code",
   "execution_count": 9,
   "metadata": {},
   "outputs": [],
   "source": [
    "tf.keras.models.save_model(model,r'Datasets\\models\\intelClassification.h5')"
   ]
  },
  {
   "cell_type": "code",
   "execution_count": 10,
   "metadata": {},
   "outputs": [],
   "source": [
    "model=tf.keras.models.load_model(r'Datasets\\models\\intelClassification.h5')"
   ]
  },
  {
   "cell_type": "code",
   "execution_count": 11,
   "metadata": {},
   "outputs": [
    {
     "data": {
      "image/png": "[encoded data removed]",
      "text/plain": [
       "<Figure size 432x288 with 1 Axes>"
      ]
     },
     "metadata": {
      "needs_background": "light"
     },
     "output_type": "display_data"
    }
   ],
   "source": [
    "plt.plot(record.history['loss'],label='loss')\n",
    "plt.plot(record.history['accuracy'],label='accuracy')\n",
    "plt.legend()\n",
    "plt.show()"
   ]
  },
  {
   "cell_type": "code",
   "execution_count": null,
   "metadata": {},
   "outputs": [],
   "source": []
  }
 ],
 "metadata": {
  "kernelspec": {
   "display_name": "Python 3",
   "language": "python",
   "name": "python3"
  },
  "language_info": {
   "codemirror_mode": {
    "name": "ipython",
    "version": 3
   },
   "file_extension": ".py",
   "mimetype": "text/x-python",
   "name": "python",
   "nbconvert_exporter": "python",
   "pygments_lexer": "ipython3",
   "version": "3.8.5 (tags/v3.8.5:580fbb0, Jul 20 2020, 15:57:54) [MSC v.1924 64 bit (AMD64)]"
  },
  "orig_nbformat": 4,
  "vscode": {
   "interpreter": {
    "hash": "bed86c5261c2214d769a0bf21b1fb328a4538a9145d5bfa7eebc314e7c9d73eb"
   }
  }
 },
 "nbformat": 4,
 "nbformat_minor": 2
}
