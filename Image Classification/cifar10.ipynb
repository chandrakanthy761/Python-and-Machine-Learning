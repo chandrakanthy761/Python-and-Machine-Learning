{
 "cells": [
  {
   "cell_type": "code",
   "execution_count": 1,
   "metadata": {},
   "outputs": [],
   "source": [
    "import tensorflow as tf\n",
    "from tensorflow.keras import layers"
   ]
  },
  {
   "cell_type": "code",
   "execution_count": 2,
   "metadata": {},
   "outputs": [
    {
     "name": "stdout",
     "output_type": "stream",
     "text": [
      "Found 50000 files belonging to 10 classes.\n"
     ]
    }
   ],
   "source": [
    "data=tf.keras.utils.image_dataset_from_directory('../Datasets/Img/cifar10/train',image_size=(32,32),color_mode='rgb',batch_size=50000)"
   ]
  },
  {
   "cell_type": "code",
   "execution_count": 3,
   "metadata": {},
   "outputs": [],
   "source": [
    "model=tf.keras.Sequential([layers.Conv2D(12,3,input_shape=(32,32,3),activation='leaky_relu' ),\n",
    "                           layers.MaxPool2D(),\n",
    "                           layers.Conv2D(24,3,activation='leaky_relu'),\n",
    "                           layers.MaxPool2D(),\n",
    "                           layers.Conv2D(36,3,activation='leaky_relu'),\n",
    "                           layers.MaxPool2D(),\n",
    "                           layers.Flatten(),\n",
    "                           layers.Dense(30,'relu'),\n",
    "                           layers.Dense(10,'softmax')\n",
    "])"
   ]
  },
  {
   "cell_type": "code",
   "execution_count": null,
   "metadata": {},
   "outputs": [],
   "source": [
    "model.summary()"
   ]
  },
  {
   "cell_type": "code",
   "execution_count": null,
   "metadata": {},
   "outputs": [],
   "source": [
    "model.compile(loss=tf.keras.losses.categorical_crossentropy,optimizer=tf.keras.optimizers.Adam(),metrics=['accuracy'])"
   ]
  },
  {
   "cell_type": "code",
   "execution_count": 4,
   "metadata": {},
   "outputs": [
    {
     "name": "stdout",
     "output_type": "stream",
     "text": [
      "Epoch 1/5\n",
      "1000/1000 [==============================] - 27s 22ms/step - loss: 0.4528 - accuracy: 0.8355\n",
      "Epoch 2/5\n",
      "1000/1000 [==============================] - 22s 22ms/step - loss: 0.4546 - accuracy: 0.8350\n",
      "Epoch 3/5\n",
      "1000/1000 [==============================] - 22s 22ms/step - loss: 0.4527 - accuracy: 0.8365\n",
      "Epoch 4/5\n",
      "1000/1000 [==============================] - 22s 22ms/step - loss: 0.4493 - accuracy: 0.8359\n",
      "Epoch 5/5\n",
      "1000/1000 [==============================] - 22s 22ms/step - loss: 0.4511 - accuracy: 0.8364\n"
     ]
    }
   ],
   "source": [
    "for features,labels in data:\n",
    "    features=tf.divide(features,255)\n",
    "    labels=tf.one_hot(labels,10)\n",
    "    record=model.fit(features,labels,batch_size=50,epochs=5)"
   ]
  },
  {
   "cell_type": "code",
   "execution_count": 7,
   "metadata": {},
   "outputs": [],
   "source": [
    "tf.keras.models.save_model(model,'..Datasets/models/img0.h5')"
   ]
  },
  {
   "cell_type": "code",
   "execution_count": 3,
   "metadata": {},
   "outputs": [],
   "source": [
    "model=tf.keras.models.load_model('..Datasets/models/img0.h5')"
   ]
  },
  {
   "cell_type": "code",
   "execution_count": null,
   "metadata": {},
   "outputs": [],
   "source": []
  }
 ],
 "metadata": {
  "kernelspec": {
   "display_name": "Python 3",
   "language": "python",
   "name": "python3"
  },
  "language_info": {
   "codemirror_mode": {
    "name": "ipython",
    "version": 3
   },
   "file_extension": ".py",
   "mimetype": "text/x-python",
   "name": "python",
   "nbconvert_exporter": "python",
   "pygments_lexer": "ipython3",
   "version": "3.8.5"
  },
  "orig_nbformat": 4,
  "vscode": {
   "interpreter": {
    "hash": "bed86c5261c2214d769a0bf21b1fb328a4538a9145d5bfa7eebc314e7c9d73eb"
   }
  }
 },
 "nbformat": 4,
 "nbformat_minor": 2
}
