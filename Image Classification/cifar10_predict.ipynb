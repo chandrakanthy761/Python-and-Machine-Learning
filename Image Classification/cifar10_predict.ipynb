{
 "cells": [
  {
   "cell_type": "code",
   "execution_count": 1,
   "metadata": {},
   "outputs": [],
   "source": [
    "import tensorflow as tf\n",
    "from PIL import Image"
   ]
  },
  {
   "cell_type": "code",
   "execution_count": 11,
   "metadata": {},
   "outputs": [],
   "source": [
    "model=tf.keras.models.load_model('../Datasets/models/img0.h5')"
   ]
  },
  {
   "cell_type": "code",
   "execution_count": 94,
   "metadata": {},
   "outputs": [
    {
     "data": {
      "text/plain": [
       "'airplane 79.0 %'"
      ]
     },
     "execution_count": 94,
     "metadata": {},
     "output_type": "execute_result"
    }
   ],
   "source": [
    "\n",
    "def predict(image):\n",
    "    image=Image.open(image).resize((32,32))\n",
    "    arr=tf.reshape(tf.divide(tf.constant(image),255),(-1,32, 32, 3))\n",
    "    labels=('airplane','automobile','bird','cat','deer','dog','frog','horse','ship','truck')\n",
    "    preds=model.predict(arr,verbose=0)\n",
    "    preds=tf.round(preds*100,2).numpy()[0].tolist()\n",
    "    Max=max(preds)\n",
    "    return f'{labels[preds.index(Max)]} {Max} %'\n",
    "\n",
    "predict('test/airForce3.jpg')"
   ]
  },
  {
   "cell_type": "code",
   "execution_count": null,
   "metadata": {},
   "outputs": [],
   "source": []
  }
 ],
 "metadata": {
  "kernelspec": {
   "display_name": "Python 3",
   "language": "python",
   "name": "python3"
  },
  "language_info": {
   "codemirror_mode": {
    "name": "ipython",
    "version": 3
   },
   "file_extension": ".py",
   "mimetype": "text/x-python",
   "name": "python",
   "nbconvert_exporter": "python",
   "pygments_lexer": "ipython3",
   "version": "3.8.5"
  },
  "orig_nbformat": 4,
  "vscode": {
   "interpreter": {
    "hash": "bed86c5261c2214d769a0bf21b1fb328a4538a9145d5bfa7eebc314e7c9d73eb"
   }
  }
 },
 "nbformat": 4,
 "nbformat_minor": 2
}
