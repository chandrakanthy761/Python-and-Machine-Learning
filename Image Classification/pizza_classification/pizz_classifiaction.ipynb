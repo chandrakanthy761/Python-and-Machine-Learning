{
 "cells": [
  {
   "cell_type": "code",
   "execution_count": 12,
   "metadata": {},
   "outputs": [],
   "source": [
    "from tensorflow.keras import layers\n",
    "import matplotlib.pyplot as plt\n",
    "from zipfile import ZipFile\n",
    "import tensorflow as tf\n",
    "from PIL import Image\n",
    "import os"
   ]
  },
  {
   "cell_type": "code",
   "execution_count": 2,
   "metadata": {},
   "outputs": [],
   "source": [
    "with ZipFile('Datasets/Img/pizzaClassification.zip') as zf:\n",
    "    zf.extractall('./../../Datasets/Img/pizzaClassification')"
   ]
  },
  {
   "cell_type": "code",
   "execution_count": 3,
   "metadata": {},
   "outputs": [
    {
     "data": {
      "text/plain": [
       "(512, 384)"
      ]
     },
     "execution_count": 3,
     "metadata": {},
     "output_type": "execute_result"
    }
   ],
   "source": [
    "Image.open(r'Datasets\\Img\\pizzaClassification\\train\\pizza\\40449.jpg').size"
   ]
  },
  {
   "cell_type": "code",
   "execution_count": 4,
   "metadata": {},
   "outputs": [
    {
     "name": "stdout",
     "output_type": "stream",
     "text": [
      "Found 1600 files belonging to 2 classes.\n"
     ]
    }
   ],
   "source": [
    "images=tf.keras.utils.image_dataset_from_directory(r'Datasets\\Img\\pizzaClassification\\train',batch_size=1600,color_mode='rgb',image_size=(64,64))"
   ]
  },
  {
   "cell_type": "code",
   "execution_count": 5,
   "metadata": {},
   "outputs": [],
   "source": [
    "model=tf.keras.Sequential([\n",
    "    layers.Conv2D(8,3,input_shape=(64,64,3),activation='leaky_relu'),\n",
    "    layers.MaxPool2D(),\n",
    "    layers.Conv2D(16,3,activation='leaky_relu'),\n",
    "    layers.MaxPool2D(),\n",
    "    layers.Conv2D(24,3,activation='leaky_relu'),\n",
    "    layers.MaxPool2D(),\n",
    "    layers.Flatten(),\n",
    "    layers.Dense(10,activation='leaky_relu'),\n",
    "    layers.Dense(1,'sigmoid')\n",
    "])"
   ]
  },
  {
   "cell_type": "code",
   "execution_count": 6,
   "metadata": {},
   "outputs": [
    {
     "name": "stdout",
     "output_type": "stream",
     "text": [
      "Model: \"sequential\"\n",
      "_________________________________________________________________\n",
      " Layer (type)                Output Shape              Param #   \n",
      "=================================================================\n",
      " conv2d (Conv2D)             (None, 62, 62, 8)         224       \n",
      "                                                                 \n",
      " max_pooling2d (MaxPooling2D  (None, 31, 31, 8)        0         \n",
      " )                                                               \n",
      "                                                                 \n",
      " conv2d_1 (Conv2D)           (None, 29, 29, 16)        1168      \n",
      "                                                                 \n",
      " max_pooling2d_1 (MaxPooling  (None, 14, 14, 16)       0         \n",
      " 2D)                                                             \n",
      "                                                                 \n",
      " conv2d_2 (Conv2D)           (None, 12, 12, 24)        3480      \n",
      "                                                                 \n",
      " max_pooling2d_2 (MaxPooling  (None, 6, 6, 24)         0         \n",
      " 2D)                                                             \n",
      "                                                                 \n",
      " flatten (Flatten)           (None, 864)               0         \n",
      "                                                                 \n",
      " dense (Dense)               (None, 10)                8650      \n",
      "                                                                 \n",
      " dense_1 (Dense)             (None, 1)                 11        \n",
      "                                                                 \n",
      "=================================================================\n",
      "Total params: 13,533\n",
      "Trainable params: 13,533\n",
      "Non-trainable params: 0\n",
      "_________________________________________________________________\n"
     ]
    }
   ],
   "source": [
    "model.summary()"
   ]
  },
  {
   "cell_type": "code",
   "execution_count": 7,
   "metadata": {},
   "outputs": [],
   "source": [
    "model.compile(loss=tf.keras.losses.binary_crossentropy,optimizer=tf.keras.optimizers.Adam(),metrics=['accuracy'])"
   ]
  },
  {
   "cell_type": "code",
   "execution_count": 8,
   "metadata": {},
   "outputs": [
    {
     "name": "stdout",
     "output_type": "stream",
     "text": [
      "Epoch 1/100\n",
      "10/10 [==============================] - 9s 189ms/step - loss: 0.6877 - accuracy: 0.5300\n",
      "Epoch 2/100\n",
      "10/10 [==============================] - 2s 192ms/step - loss: 0.6700 - accuracy: 0.6037\n",
      "Epoch 3/100\n",
      "10/10 [==============================] - 2s 186ms/step - loss: 0.6464 - accuracy: 0.6263\n",
      "Epoch 4/100\n",
      "10/10 [==============================] - 2s 186ms/step - loss: 0.6317 - accuracy: 0.6438\n",
      "Epoch 5/100\n",
      "10/10 [==============================] - 2s 198ms/step - loss: 0.6078 - accuracy: 0.6844\n",
      "Epoch 6/100\n",
      "10/10 [==============================] - 2s 210ms/step - loss: 0.5876 - accuracy: 0.6856\n",
      "Epoch 7/100\n",
      "10/10 [==============================] - 2s 207ms/step - loss: 0.5755 - accuracy: 0.6956\n",
      "Epoch 8/100\n",
      "10/10 [==============================] - 2s 211ms/step - loss: 0.5594 - accuracy: 0.7244\n",
      "Epoch 9/100\n",
      "10/10 [==============================] - 2s 207ms/step - loss: 0.5379 - accuracy: 0.7287\n",
      "Epoch 10/100\n",
      "10/10 [==============================] - 2s 202ms/step - loss: 0.5095 - accuracy: 0.7600\n",
      "Epoch 11/100\n",
      "10/10 [==============================] - 2s 201ms/step - loss: 0.4866 - accuracy: 0.7794\n",
      "Epoch 12/100\n",
      "10/10 [==============================] - 2s 195ms/step - loss: 0.4669 - accuracy: 0.7919\n",
      "Epoch 13/100\n",
      "10/10 [==============================] - 2s 201ms/step - loss: 0.4774 - accuracy: 0.7844\n",
      "Epoch 14/100\n",
      "10/10 [==============================] - 2s 214ms/step - loss: 0.5074 - accuracy: 0.7462\n",
      "Epoch 15/100\n",
      "10/10 [==============================] - 2s 217ms/step - loss: 0.4822 - accuracy: 0.7719\n",
      "Epoch 16/100\n",
      "10/10 [==============================] - 2s 192ms/step - loss: 0.4532 - accuracy: 0.7994\n",
      "Epoch 17/100\n",
      "10/10 [==============================] - 2s 193ms/step - loss: 0.4513 - accuracy: 0.7937\n",
      "Epoch 18/100\n",
      "10/10 [==============================] - 2s 191ms/step - loss: 0.4313 - accuracy: 0.8138\n",
      "Epoch 19/100\n",
      "10/10 [==============================] - 2s 192ms/step - loss: 0.4224 - accuracy: 0.8206\n",
      "Epoch 20/100\n",
      "10/10 [==============================] - 2s 194ms/step - loss: 0.4246 - accuracy: 0.8119\n",
      "Epoch 21/100\n",
      "10/10 [==============================] - 2s 199ms/step - loss: 0.4131 - accuracy: 0.8231\n",
      "Epoch 22/100\n",
      "10/10 [==============================] - 2s 191ms/step - loss: 0.4199 - accuracy: 0.8188\n",
      "Epoch 23/100\n",
      "10/10 [==============================] - 2s 191ms/step - loss: 0.4133 - accuracy: 0.8112\n",
      "Epoch 24/100\n",
      "10/10 [==============================] - 2s 190ms/step - loss: 0.4003 - accuracy: 0.8169\n",
      "Epoch 25/100\n",
      "10/10 [==============================] - 2s 197ms/step - loss: 0.3975 - accuracy: 0.8275\n",
      "Epoch 26/100\n",
      "10/10 [==============================] - 2s 189ms/step - loss: 0.4129 - accuracy: 0.8163\n",
      "Epoch 27/100\n",
      "10/10 [==============================] - 2s 194ms/step - loss: 0.4013 - accuracy: 0.8213\n",
      "Epoch 28/100\n",
      "10/10 [==============================] - 2s 193ms/step - loss: 0.4197 - accuracy: 0.8112\n",
      "Epoch 29/100\n",
      "10/10 [==============================] - 2s 191ms/step - loss: 0.4106 - accuracy: 0.8200\n",
      "Epoch 30/100\n",
      "10/10 [==============================] - 2s 197ms/step - loss: 0.3963 - accuracy: 0.8313\n",
      "Epoch 31/100\n",
      "10/10 [==============================] - 2s 192ms/step - loss: 0.3840 - accuracy: 0.8356\n",
      "Epoch 32/100\n",
      "10/10 [==============================] - 2s 191ms/step - loss: 0.3870 - accuracy: 0.8294\n",
      "Epoch 33/100\n",
      "10/10 [==============================] - 2s 196ms/step - loss: 0.3835 - accuracy: 0.8194\n",
      "Epoch 34/100\n",
      "10/10 [==============================] - 2s 193ms/step - loss: 0.3930 - accuracy: 0.8175\n",
      "Epoch 35/100\n",
      "10/10 [==============================] - 2s 194ms/step - loss: 0.3984 - accuracy: 0.8206\n",
      "Epoch 36/100\n",
      "10/10 [==============================] - 2s 190ms/step - loss: 0.3659 - accuracy: 0.8444\n",
      "Epoch 37/100\n",
      "10/10 [==============================] - 2s 191ms/step - loss: 0.3664 - accuracy: 0.8438\n",
      "Epoch 38/100\n",
      "10/10 [==============================] - 2s 192ms/step - loss: 0.3710 - accuracy: 0.8456\n",
      "Epoch 39/100\n",
      "10/10 [==============================] - 2s 202ms/step - loss: 0.3737 - accuracy: 0.8438\n",
      "Epoch 40/100\n",
      "10/10 [==============================] - 2s 200ms/step - loss: 0.3558 - accuracy: 0.8475\n",
      "Epoch 41/100\n",
      "10/10 [==============================] - 2s 201ms/step - loss: 0.3815 - accuracy: 0.8275\n",
      "Epoch 42/100\n",
      "10/10 [==============================] - 2s 206ms/step - loss: 0.3709 - accuracy: 0.8331\n",
      "Epoch 43/100\n",
      "10/10 [==============================] - 2s 197ms/step - loss: 0.3576 - accuracy: 0.8413\n",
      "Epoch 44/100\n",
      "10/10 [==============================] - 2s 195ms/step - loss: 0.3637 - accuracy: 0.8419\n",
      "Epoch 45/100\n",
      "10/10 [==============================] - 2s 199ms/step - loss: 0.3403 - accuracy: 0.8544\n",
      "Epoch 46/100\n",
      "10/10 [==============================] - 2s 194ms/step - loss: 0.3406 - accuracy: 0.8581\n",
      "Epoch 47/100\n",
      "10/10 [==============================] - 2s 194ms/step - loss: 0.3343 - accuracy: 0.8625\n",
      "Epoch 48/100\n",
      "10/10 [==============================] - 2s 197ms/step - loss: 0.3428 - accuracy: 0.8525\n",
      "Epoch 49/100\n",
      "10/10 [==============================] - 2s 197ms/step - loss: 0.3432 - accuracy: 0.8562\n",
      "Epoch 50/100\n",
      "10/10 [==============================] - 2s 198ms/step - loss: 0.3277 - accuracy: 0.8669\n",
      "Epoch 51/100\n",
      "10/10 [==============================] - 2s 195ms/step - loss: 0.3274 - accuracy: 0.8675\n",
      "Epoch 52/100\n",
      "10/10 [==============================] - 2s 193ms/step - loss: 0.3261 - accuracy: 0.8675\n",
      "Epoch 53/100\n",
      "10/10 [==============================] - 2s 192ms/step - loss: 0.3158 - accuracy: 0.8656\n",
      "Epoch 54/100\n",
      "10/10 [==============================] - 2s 196ms/step - loss: 0.3204 - accuracy: 0.8712\n",
      "Epoch 55/100\n",
      "10/10 [==============================] - 2s 195ms/step - loss: 0.3229 - accuracy: 0.8606\n",
      "Epoch 56/100\n",
      "10/10 [==============================] - 2s 194ms/step - loss: 0.2997 - accuracy: 0.8813\n",
      "Epoch 57/100\n",
      "10/10 [==============================] - 2s 196ms/step - loss: 0.3034 - accuracy: 0.8706\n",
      "Epoch 58/100\n",
      "10/10 [==============================] - 2s 194ms/step - loss: 0.2916 - accuracy: 0.8819\n",
      "Epoch 59/100\n",
      "10/10 [==============================] - 2s 205ms/step - loss: 0.3207 - accuracy: 0.8587\n",
      "Epoch 60/100\n",
      "10/10 [==============================] - 2s 195ms/step - loss: 0.3155 - accuracy: 0.8662\n",
      "Epoch 61/100\n",
      "10/10 [==============================] - 2s 195ms/step - loss: 0.2857 - accuracy: 0.8863\n",
      "Epoch 62/100\n",
      "10/10 [==============================] - 2s 190ms/step - loss: 0.2775 - accuracy: 0.8925\n",
      "Epoch 63/100\n",
      "10/10 [==============================] - 2s 195ms/step - loss: 0.2725 - accuracy: 0.8875\n",
      "Epoch 64/100\n",
      "10/10 [==============================] - 2s 193ms/step - loss: 0.2805 - accuracy: 0.8881\n",
      "Epoch 65/100\n",
      "10/10 [==============================] - 2s 195ms/step - loss: 0.2873 - accuracy: 0.8737\n",
      "Epoch 66/100\n",
      "10/10 [==============================] - 2s 191ms/step - loss: 0.3066 - accuracy: 0.8712\n",
      "Epoch 67/100\n",
      "10/10 [==============================] - 2s 193ms/step - loss: 0.2760 - accuracy: 0.8894\n",
      "Epoch 68/100\n",
      "10/10 [==============================] - 2s 195ms/step - loss: 0.2606 - accuracy: 0.9006\n",
      "Epoch 69/100\n",
      "10/10 [==============================] - 2s 195ms/step - loss: 0.2696 - accuracy: 0.8925\n",
      "Epoch 70/100\n",
      "10/10 [==============================] - 2s 190ms/step - loss: 0.2792 - accuracy: 0.8806\n",
      "Epoch 71/100\n",
      "10/10 [==============================] - 2s 194ms/step - loss: 0.2576 - accuracy: 0.8913\n",
      "Epoch 72/100\n",
      "10/10 [==============================] - 2s 193ms/step - loss: 0.2692 - accuracy: 0.8888\n",
      "Epoch 73/100\n",
      "10/10 [==============================] - 2s 198ms/step - loss: 0.2462 - accuracy: 0.9044\n",
      "Epoch 74/100\n",
      "10/10 [==============================] - 2s 190ms/step - loss: 0.2429 - accuracy: 0.9031\n",
      "Epoch 75/100\n",
      "10/10 [==============================] - 2s 194ms/step - loss: 0.2601 - accuracy: 0.8906\n",
      "Epoch 76/100\n",
      "10/10 [==============================] - 2s 193ms/step - loss: 0.2477 - accuracy: 0.8988\n",
      "Epoch 77/100\n",
      "10/10 [==============================] - 2s 192ms/step - loss: 0.2232 - accuracy: 0.9200\n",
      "Epoch 78/100\n",
      "10/10 [==============================] - 2s 198ms/step - loss: 0.2191 - accuracy: 0.9181\n",
      "Epoch 79/100\n",
      "10/10 [==============================] - 2s 193ms/step - loss: 0.2183 - accuracy: 0.9175\n",
      "Epoch 80/100\n",
      "10/10 [==============================] - 2s 195ms/step - loss: 0.2247 - accuracy: 0.9119\n",
      "Epoch 81/100\n",
      "10/10 [==============================] - 2s 192ms/step - loss: 0.2160 - accuracy: 0.9150\n",
      "Epoch 82/100\n",
      "10/10 [==============================] - 2s 195ms/step - loss: 0.2035 - accuracy: 0.9350\n",
      "Epoch 83/100\n",
      "10/10 [==============================] - 2s 194ms/step - loss: 0.2079 - accuracy: 0.9212\n",
      "Epoch 84/100\n",
      "10/10 [==============================] - 2s 196ms/step - loss: 0.2173 - accuracy: 0.9200\n",
      "Epoch 85/100\n",
      "10/10 [==============================] - 2s 196ms/step - loss: 0.2185 - accuracy: 0.9125\n",
      "Epoch 86/100\n",
      "10/10 [==============================] - 2s 195ms/step - loss: 0.2066 - accuracy: 0.9300\n",
      "Epoch 87/100\n",
      "10/10 [==============================] - 2s 195ms/step - loss: 0.1921 - accuracy: 0.9337\n",
      "Epoch 88/100\n",
      "10/10 [==============================] - 2s 192ms/step - loss: 0.1899 - accuracy: 0.9287\n",
      "Epoch 89/100\n",
      "10/10 [==============================] - 2s 193ms/step - loss: 0.1821 - accuracy: 0.9394\n",
      "Epoch 90/100\n",
      "10/10 [==============================] - 2s 194ms/step - loss: 0.1735 - accuracy: 0.9438\n",
      "Epoch 91/100\n",
      "10/10 [==============================] - 2s 197ms/step - loss: 0.1724 - accuracy: 0.9413\n",
      "Epoch 92/100\n",
      "10/10 [==============================] - 2s 192ms/step - loss: 0.1711 - accuracy: 0.9450\n",
      "Epoch 93/100\n",
      "10/10 [==============================] - 2s 196ms/step - loss: 0.1768 - accuracy: 0.9463\n",
      "Epoch 94/100\n",
      "10/10 [==============================] - 2s 195ms/step - loss: 0.1600 - accuracy: 0.9481\n",
      "Epoch 95/100\n",
      "10/10 [==============================] - 2s 195ms/step - loss: 0.1642 - accuracy: 0.9431\n",
      "Epoch 96/100\n",
      "10/10 [==============================] - 2s 196ms/step - loss: 0.1776 - accuracy: 0.9306\n",
      "Epoch 97/100\n",
      "10/10 [==============================] - 2s 196ms/step - loss: 0.1553 - accuracy: 0.9475\n",
      "Epoch 98/100\n",
      "10/10 [==============================] - 2s 193ms/step - loss: 0.1606 - accuracy: 0.9488\n",
      "Epoch 99/100\n",
      "10/10 [==============================] - 2s 195ms/step - loss: 0.1673 - accuracy: 0.9419\n",
      "Epoch 100/100\n",
      "10/10 [==============================] - 2s 196ms/step - loss: 0.1443 - accuracy: 0.9563\n"
     ]
    }
   ],
   "source": [
    "for features,labels in images:\n",
    "    features=tf.divide(features,255)\n",
    "    record=model.fit(features,labels,batch_size=160,epochs=100)\n",
    "    "
   ]
  },
  {
   "cell_type": "code",
   "execution_count": 9,
   "metadata": {},
   "outputs": [],
   "source": [
    "tf.keras.models.save_model(model,r'Datasets\\models\\pizzaClassification.h5')"
   ]
  },
  {
   "cell_type": "code",
   "execution_count": 11,
   "metadata": {},
   "outputs": [],
   "source": [
    "model=tf.keras.models.load_model(r'Datasets\\models\\pizzaClassification.h5')"
   ]
  },
  {
   "cell_type": "code",
   "execution_count": 13,
   "metadata": {},
   "outputs": [
    {
     "data": {
      "image/png": "[encoded data removed]",
      "text/plain": [
       "<Figure size 432x288 with 1 Axes>"
      ]
     },
     "metadata": {
      "needs_background": "light"
     },
     "output_type": "display_data"
    }
   ],
   "source": [
    "plt.plot(record.history['loss'],label='loss')\n",
    "plt.plot(record.history['accuracy'],label='accuracy')\n",
    "plt.legend()\n",
    "plt.show()"
   ]
  },
  {
   "cell_type": "code",
   "execution_count": null,
   "metadata": {},
   "outputs": [],
   "source": []
  }
 ],
 "metadata": {
  "kernelspec": {
   "display_name": "Python 3",
   "language": "python",
   "name": "python3"
  },
  "language_info": {
   "codemirror_mode": {
    "name": "ipython",
    "version": 3
   },
   "file_extension": ".py",
   "mimetype": "text/x-python",
   "name": "python",
   "nbconvert_exporter": "python",
   "pygments_lexer": "ipython3",
   "version": "3.8.5 (tags/v3.8.5:580fbb0, Jul 20 2020, 15:57:54) [MSC v.1924 64 bit (AMD64)]"
  },
  "orig_nbformat": 4,
  "vscode": {
   "interpreter": {
    "hash": "bed86c5261c2214d769a0bf21b1fb328a4538a9145d5bfa7eebc314e7c9d73eb"
   }
  }
 },
 "nbformat": 4,
 "nbformat_minor": 2
}
